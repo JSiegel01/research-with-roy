{
 "cells": [
  {
   "cell_type": "code",
   "execution_count": null,
   "id": "f86bb34c",
   "metadata": {},
   "outputs": [],
   "source": [
    "import numpy as np\n",
    "import pandas as pd\n",
    "import math\n",
    "import glob\n",
    "from astroquery.ipac.irsa import Irsa\n",
    "from astropy.coordinates import SkyCoord\n",
    "from astropy import units as u\n"
   ]
  },
  {
   "cell_type": "code",
   "execution_count": null,
   "id": "1209d465",
   "metadata": {},
   "outputs": [],
   "source": [
    "gsample = pd.read_csv('../Data/galaxy_names_reduced_homogeneous_resolved_unique_with_10ks_exposure_cut.csv')\n",
    "#print(gsample)\n",
    "gsample = pd.DataFrame(gsample['Galaxy_Name_Reduced'][:])\n",
    "\n",
    "gsample = gsample.rename(columns={'Galaxy_Name_Reduced': 'source_id'})\n",
    "gsample['source_id']\n",
    "#print(gsample)\n",
    "#gsample.to_csv('output1.csv', index=True)\n",
    "\n",
    "oldsample = pd.read_csv('../Data/ocatResult_Modified.csv')\n",
    "oldsample\n",
    "#gsample"
   ]
  },
  {
   "cell_type": "code",
   "execution_count": null,
   "id": "203bc1f6",
   "metadata": {},
   "outputs": [],
   "source": []
  },
  {
   "cell_type": "code",
   "execution_count": null,
   "id": "9688dc13",
   "metadata": {},
   "outputs": [],
   "source": [
    "columns = ['RA','Dec','Gname']\n",
    "specific_galaxies = gsample['source_id']\n",
    "df = oldsample[columns]\n",
    "filtered_df = df[df['Gname'].isin(specific_galaxies)]\n",
    "print(filtered_df)"
   ]
  },
  {
   "cell_type": "code",
   "execution_count": null,
   "id": "5f849987",
   "metadata": {},
   "outputs": [],
   "source": []
  },
  {
   "cell_type": "code",
   "execution_count": null,
   "id": "858fa9be",
   "metadata": {},
   "outputs": [],
   "source": []
  },
  {
   "cell_type": "code",
   "execution_count": null,
   "id": "e4e9f15d",
   "metadata": {},
   "outputs": [],
   "source": []
  },
  {
   "cell_type": "code",
   "execution_count": null,
   "id": "ca360c70",
   "metadata": {},
   "outputs": [],
   "source": []
  },
  {
   "cell_type": "code",
   "execution_count": null,
   "id": "808046c8",
   "metadata": {},
   "outputs": [],
   "source": [
    "columns = ['RA','Dec','Gname']\n",
    "name_and_coords = oldsample[columns]\n",
    "#print(type(name_and_coords))\n",
    "# Remove leading and trailing whitespaces from column name\n",
    "name_and_coords.columns = [col.strip() if isinstance(col, str) else col for col in name_and_coords.columns]\n",
    "\n",
    "# Remove leading and trailing whitespaces from values in the 3rd column\n",
    "name_and_coords.loc[:, 'Gname'] = name_and_coords['Gname'].str.strip()\n",
    "name_and_coords"
   ]
  },
  {
   "cell_type": "code",
   "execution_count": null,
   "id": "c635af35",
   "metadata": {},
   "outputs": [],
   "source": [
    "df= name_and_coords\n",
    "selected_gal= gsample['source_id']\n",
    "target_galaxies = selected_gal.tolist()\n",
    "print(target_galaxies)\n",
    "\n",
    "def extract_radec(df, target_galaxies):\n",
    "    columns = ['RA', 'Dec', 'Gname']\n",
    "    df = df.copy()\n",
    "    result = df[df['Gname'].isin(target_galaxies)]\n",
    "    result = result[columns]\n",
    "    return result\n",
    "\n",
    "extract_radec(name_and_coords, target_galaxies)"
   ]
  },
  {
   "cell_type": "code",
   "execution_count": null,
   "id": "18dbe5a1",
   "metadata": {},
   "outputs": [],
   "source": [
    "big_list = name_and_coords\n",
    "specific_list = gsample['source_id']\n",
    "#filtered_list = [galaxy for galaxy in big_list if galaxy in specific_list]\n",
    "#print(filtered_list)\n",
    "#print(name_and_coords)\n",
    "no_duplicates = list(set(name_and_coords))\n",
    "#print(no_duplicates)\n",
    "no_duplicates\n",
    "\n",
    "unique_specific_list = []\n",
    "seen = set()\n",
    "for galaxy in specific_list:\n",
    "    if galaxy not in seen:\n",
    "        unique_specific_list.append(galaxy)\n",
    "        seen.add(galaxy)\n",
    "        \n",
    "filtered_list = [galaxy for galaxy in big_list if galaxy in unique_specific_list]\n",
    "\n",
    "filtered_list"
   ]
  },
  {
   "cell_type": "code",
   "execution_count": null,
   "id": "67695c0d",
   "metadata": {},
   "outputs": [],
   "source": []
  },
  {
   "cell_type": "code",
   "execution_count": null,
   "id": "4fbcb043",
   "metadata": {},
   "outputs": [],
   "source": []
  },
  {
   "cell_type": "code",
   "execution_count": null,
   "id": "78d3520c",
   "metadata": {},
   "outputs": [],
   "source": []
  },
  {
   "cell_type": "code",
   "execution_count": null,
   "id": "ec615a7a",
   "metadata": {},
   "outputs": [],
   "source": []
  },
  {
   "cell_type": "code",
   "execution_count": null,
   "id": "d60ae63e",
   "metadata": {},
   "outputs": [],
   "source": []
  },
  {
   "cell_type": "code",
   "execution_count": null,
   "id": "10760082",
   "metadata": {},
   "outputs": [],
   "source": []
  },
  {
   "cell_type": "code",
   "execution_count": null,
   "id": "1238d360",
   "metadata": {},
   "outputs": [],
   "source": []
  },
  {
   "cell_type": "code",
   "execution_count": null,
   "id": "3c2fbc64",
   "metadata": {},
   "outputs": [],
   "source": [
    "selected_names = gsample['source_id']\n",
    "#print(type(selected_names))\n",
    "names_list = selected_names.tolist()\n",
    "#print(type(names_list))\n",
    "\n",
    "ra = []\n",
    "if 'RA' in name_and_coords:\n",
    "    galaxy_exists = [galaxy for galaxy in names_list if galaxy in name_and_coords.columns]\n",
    "    if galaxy_exists:\n",
    "        gsample.append(name_and_coords['RA'])\n",
    "        \n",
    "        print(gsample[0:5])\n",
    "    else:\n",
    "        print(\"None of the selected names exist in the DataFrame.\")\n",
    "else:\n",
    "    print(\"The 'age' column does not exist in the DataFrame.\")\n",
    "        \n"
   ]
  },
  {
   "cell_type": "code",
   "execution_count": null,
   "id": "8b447433",
   "metadata": {},
   "outputs": [],
   "source": []
  },
  {
   "cell_type": "code",
   "execution_count": null,
   "id": "9245aa33",
   "metadata": {},
   "outputs": [],
   "source": [
    "# need to find the ra that corresponds with the name of the galaxy\n",
    "x =\n",
    "\n",
    "def get_ra(x):\n",
    "    return oldsample"
   ]
  },
  {
   "cell_type": "code",
   "execution_count": null,
   "id": "0de3b5d8",
   "metadata": {},
   "outputs": [],
   "source": [
    "x =\n",
    "def get_dec(x):\n",
    "    "
   ]
  },
  {
   "cell_type": "code",
   "execution_count": null,
   "id": "090363b0",
   "metadata": {},
   "outputs": [],
   "source": []
  },
  {
   "cell_type": "code",
   "execution_count": null,
   "id": "aa6ce03c",
   "metadata": {},
   "outputs": [],
   "source": [
    "\n",
    "oldsample = pd.read_csv('../Data/galaxy_names_reduced_homogeneous_resolved_unique_with_10ks_exposure_cut.csv')\n",
    "print(oldsample)\n"
   ]
  },
  {
   "cell_type": "code",
   "execution_count": null,
   "id": "21c34390",
   "metadata": {},
   "outputs": [],
   "source": [
    "#the name in the ALLWISE catalog should be in the column 'Object/Coordinate' it could also be objstr, or target_name. could also be called designation or source_id\n",
    "\n",
    "#trying to figure out the names of columns so i know what to \n",
    "#catalogs = Irsa.list_catalogs()\n",
    "\n",
    "#print(\"All catalogs\", catalogs)\n",
    "#table = Irsa.query_region(\"HIP 12\", catalog=\"allwise_p3as_psd\", spatial=\"Cone\")\n",
    "#print(table)\n",
    "\n",
    "\n",
    "#for Galaxy_Name_Reduced in Sample['Galaxy_Name_Reduced']:\n",
    " #   print(Galaxy_Name_Reduced)\n",
    "\n",
    "print(Sample['Galaxy_Name_Reduced'][:])"
   ]
  },
  {
   "cell_type": "code",
   "execution_count": null,
   "id": "58f00e33",
   "metadata": {},
   "outputs": [],
   "source": [
    "table = Irsa.query_region(Sample['Galaxy_Name_Reduced'][:], catalog=\"allwise_p3as_psd\")\n",
    "table"
   ]
  },
  {
   "cell_type": "code",
   "execution_count": null,
   "id": "6c46c8c5",
   "metadata": {},
   "outputs": [],
   "source": [
    "table = Irsa.query_region(Sample, catalog=\"allwise_p3as_psd\")\n",
    "table"
   ]
  },
  {
   "cell_type": "code",
   "execution_count": null,
   "id": "9e4608b0",
   "metadata": {},
   "outputs": [],
   "source": []
  },
  {
   "cell_type": "code",
   "execution_count": null,
   "id": "aad926e0",
   "metadata": {},
   "outputs": [],
   "source": []
  }
 ],
 "metadata": {
  "kernelspec": {
   "display_name": "Python 3 (ipykernel)",
   "language": "python",
   "name": "python3"
  },
  "language_info": {
   "codemirror_mode": {
    "name": "ipython",
    "version": 3
   },
   "file_extension": ".py",
   "mimetype": "text/x-python",
   "name": "python",
   "nbconvert_exporter": "python",
   "pygments_lexer": "ipython3",
   "version": "3.9.18"
  }
 },
 "nbformat": 4,
 "nbformat_minor": 5
}
