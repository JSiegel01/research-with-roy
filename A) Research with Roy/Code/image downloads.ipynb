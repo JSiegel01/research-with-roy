{
 "cells": [
  {
   "cell_type": "code",
   "execution_count": 117,
   "metadata": {},
   "outputs": [],
   "source": [
    "import pyvo as vo\n",
    "from astropy.coordinates import SkyCoord\n",
    "from astropy.nddata import Cutout2D\n",
    "from astropy.wcs import WCS\n",
    "import astropy.units as u\n",
    "import matplotlib.pyplot as plt\n",
    "from astropy.utils.data import download_file\n",
    "from astropy.io import fits\n"
   ]
  },
  {
   "cell_type": "code",
   "execution_count": 118,
   "metadata": {},
   "outputs": [],
   "source": [
    "%matplotlib inline\n"
   ]
  },
  {
   "cell_type": "code",
   "execution_count": 119,
   "metadata": {},
   "outputs": [],
   "source": [
    "# using the website that Irsa.ipac relocates you that has a full explanationm of all the code you need\n",
    "#using NGC 5128: ra= 201.365\tdec= -43.019\n",
    "#define coordinates\t\n",
    "ra = 201.365\n",
    "dec = -43.019\n",
    "pos = SkyCoord(ra=ra, dec=dec, unit= 'deg')"
   ]
  },
  {
   "cell_type": "code",
   "execution_count": 120,
   "metadata": {},
   "outputs": [],
   "source": [
    "# Lookup and define a service for ALLWISE Atlas images\n",
    "# the website gave me the URL\n",
    "allwise_service = vo.dal.SIAService(\"https://irsa.ipac.caltech.edu/ibe/sia/wise/allwise/p3am_cdd?\")\n"
   ]
  },
  {
   "cell_type": "code",
   "execution_count": 122,
   "metadata": {},
   "outputs": [
    {
     "data": {
      "text/plain": [
       "<DALResultsTable length=4>\n",
       "      sia_title        ...    coadd_id  \n",
       "                       ...              \n",
       "        object         ...     object   \n",
       "---------------------- ... -------------\n",
       "W4 Coadd 2022m425_ac51 ... 2022m425_ac51\n",
       "W2 Coadd 2022m425_ac51 ... 2022m425_ac51\n",
       "W1 Coadd 2022m425_ac51 ... 2022m425_ac51\n",
       "W3 Coadd 2022m425_ac51 ... 2022m425_ac51"
      ]
     },
     "execution_count": 122,
     "metadata": {},
     "output_type": "execute_result"
    }
   ],
   "source": [
    "#search the service for images covering within 1 arcsecond of the star. make this bigger if needed\n",
    "im_table = allwise_service.search(pos=pos, size= 1*u.arcsec)\n",
    "im_table"
   ]
  },
  {
   "cell_type": "code",
   "execution_count": 62,
   "metadata": {},
   "outputs": [
    {
     "data": {
      "text/plain": [
       "['sia_title',\n",
       " 'sia_url',\n",
       " 'cloud_access',\n",
       " 'sia_naxes',\n",
       " 'sia_fmt',\n",
       " 'sia_ra',\n",
       " 'sia_dec',\n",
       " 'sia_naxis',\n",
       " 'sia_crpix',\n",
       " 'sia_crval',\n",
       " 'sia_proj',\n",
       " 'sia_scale',\n",
       " 'sia_cd',\n",
       " 'sia_bp_id',\n",
       " 'sia_bp_ref',\n",
       " 'sia_bp_hi',\n",
       " 'sia_bp_lo',\n",
       " 'sia_bp_unit',\n",
       " 'magzp',\n",
       " 'magzpunc',\n",
       " 'unc_url',\n",
       " 'cov_url',\n",
       " 'coadd_id']"
      ]
     },
     "execution_count": 62,
     "metadata": {},
     "output_type": "execute_result"
    }
   ],
   "source": [
    "im_table.to_table().colnames"
   ]
  },
  {
   "cell_type": "code",
   "execution_count": 114,
   "metadata": {},
   "outputs": [
    {
     "data": {
      "text/html": [
       "&lt;MaskedColumn name=&apos;sia_url&apos; dtype=&apos;object&apos; description=&apos;Image access reference URL.&apos; length=4&gt;\n",
       "<table>\n",
       "<tr><td>https://irsa.ipac.caltech.edu/ibe/data/wise/allwise/p3am_cdd/20/2022/2022m425_ac51/2022m425_ac51-w4-int-3.fits</td></tr>\n",
       "<tr><td>https://irsa.ipac.caltech.edu/ibe/data/wise/allwise/p3am_cdd/20/2022/2022m425_ac51/2022m425_ac51-w2-int-3.fits</td></tr>\n",
       "<tr><td>https://irsa.ipac.caltech.edu/ibe/data/wise/allwise/p3am_cdd/20/2022/2022m425_ac51/2022m425_ac51-w1-int-3.fits</td></tr>\n",
       "<tr><td>https://irsa.ipac.caltech.edu/ibe/data/wise/allwise/p3am_cdd/20/2022/2022m425_ac51/2022m425_ac51-w3-int-3.fits</td></tr>\n",
       "</table>"
      ],
      "text/plain": [
       "<MaskedColumn name='sia_url' dtype='object' description='Image access reference URL.' length=4>\n",
       "https://irsa.ipac.caltech.edu/ibe/data/wise/allwise/p3am_cdd/20/2022/2022m425_ac51/2022m425_ac51-w4-int-3.fits\n",
       "https://irsa.ipac.caltech.edu/ibe/data/wise/allwise/p3am_cdd/20/2022/2022m425_ac51/2022m425_ac51-w2-int-3.fits\n",
       "https://irsa.ipac.caltech.edu/ibe/data/wise/allwise/p3am_cdd/20/2022/2022m425_ac51/2022m425_ac51-w1-int-3.fits\n",
       "https://irsa.ipac.caltech.edu/ibe/data/wise/allwise/p3am_cdd/20/2022/2022m425_ac51/2022m425_ac51-w3-int-3.fits"
      ]
     },
     "execution_count": 114,
     "metadata": {},
     "output_type": "execute_result"
    }
   ],
   "source": [
    "im_table.to_table()['sia_url']"
   ]
  },
  {
   "cell_type": "code",
   "execution_count": 63,
   "metadata": {},
   "outputs": [
    {
     "data": {
      "text/html": [
       "&lt;MaskedColumn name=&apos;sia_bp_id&apos; dtype=&apos;object&apos; description=&apos;Bandpass ID&apos; length=4&gt;\n",
       "<table>\n",
       "<tr><td>W4</td></tr>\n",
       "<tr><td>W2</td></tr>\n",
       "<tr><td>W1</td></tr>\n",
       "<tr><td>W3</td></tr>\n",
       "</table>"
      ],
      "text/plain": [
       "<MaskedColumn name='sia_bp_id' dtype='object' description='Bandpass ID' length=4>\n",
       "W4\n",
       "W2\n",
       "W1\n",
       "W3"
      ]
     },
     "execution_count": 63,
     "metadata": {},
     "output_type": "execute_result"
    }
   ],
   "source": [
    "im_table.to_table()['sia_bp_id']\n",
    "# i believe this gives us the different bandpasses that you can view the image in. "
   ]
  },
  {
   "cell_type": "code",
   "execution_count": 64,
   "metadata": {},
   "outputs": [
    {
     "name": "stdout",
     "output_type": "stream",
     "text": [
      "('W4 Coadd 2022m425_ac51', 'https://irsa.ipac.caltech.edu/ibe/data/wise/allwise/p3am_cdd/20/2022/2022m425_ac51/2022m425_ac51-w4-int-3.fits', '{\"aws\": {\"bucket_name\": \"nasa-irsa-wise\", \"key\":\"wise/allwise/images/p3am_cdd/20/2022/2022m425_ac51/2022m425_ac51-w4-int-3.fits\", \"region\": \"us-west-2\"}}', 2, 'image/fits', 202.248532, -42.404444, array([4095, 4095], dtype=int32), array([2048., 2048.]), array([202.248532, -42.404444]), 'SIN', array([-0.00038194,  0.00038194]), array([-0.00038194, -0.        , -0.        ,  0.00038194]), 'W4', 2.209e-05, 2.336e-05, 1.984e-05, 'm', 13.0, 0.012, 'https://irsa.ipac.caltech.edu/ibe/data/wise/allwise/p3am_cdd/20/2022/2022m425_ac51/2022m425_ac51-w4-unc-3.fits.gz', 'https://irsa.ipac.caltech.edu/ibe/data/wise/allwise/p3am_cdd/20/2022/2022m425_ac51/2022m425_ac51-w4-cov-3.fits.gz', '2022m425_ac51')\n",
      "('W2 Coadd 2022m425_ac51', 'https://irsa.ipac.caltech.edu/ibe/data/wise/allwise/p3am_cdd/20/2022/2022m425_ac51/2022m425_ac51-w2-int-3.fits', '{\"aws\": {\"bucket_name\": \"nasa-irsa-wise\", \"key\":\"wise/allwise/images/p3am_cdd/20/2022/2022m425_ac51/2022m425_ac51-w2-int-3.fits\", \"region\": \"us-west-2\"}}', 2, 'image/fits', 202.248532, -42.404444, array([4095, 4095], dtype=int32), array([2048., 2048.]), array([202.248532, -42.404444]), 'SIN', array([-0.00038194,  0.00038194]), array([-0.00038194, -0.        , -0.        ,  0.00038194]), 'W2', 4.6e-06, 5.19e-06, 4.02e-06, 'm', 19.5, 0.007, 'https://irsa.ipac.caltech.edu/ibe/data/wise/allwise/p3am_cdd/20/2022/2022m425_ac51/2022m425_ac51-w2-unc-3.fits.gz', 'https://irsa.ipac.caltech.edu/ibe/data/wise/allwise/p3am_cdd/20/2022/2022m425_ac51/2022m425_ac51-w2-cov-3.fits.gz', '2022m425_ac51')\n",
      "('W1 Coadd 2022m425_ac51', 'https://irsa.ipac.caltech.edu/ibe/data/wise/allwise/p3am_cdd/20/2022/2022m425_ac51/2022m425_ac51-w1-int-3.fits', '{\"aws\": {\"bucket_name\": \"nasa-irsa-wise\", \"key\":\"wise/allwise/images/p3am_cdd/20/2022/2022m425_ac51/2022m425_ac51-w1-int-3.fits\", \"region\": \"us-west-2\"}}', 2, 'image/fits', 202.248532, -42.404444, array([4095, 4095], dtype=int32), array([2048., 2048.]), array([202.248532, -42.404444]), 'SIN', array([-0.00038194,  0.00038194]), array([-0.00038194, -0.        , -0.        ,  0.00038194]), 'W1', 3.35e-06, 3.78e-06, 3.13e-06, 'm', 20.5, 0.006, 'https://irsa.ipac.caltech.edu/ibe/data/wise/allwise/p3am_cdd/20/2022/2022m425_ac51/2022m425_ac51-w1-unc-3.fits.gz', 'https://irsa.ipac.caltech.edu/ibe/data/wise/allwise/p3am_cdd/20/2022/2022m425_ac51/2022m425_ac51-w1-cov-3.fits.gz', '2022m425_ac51')\n",
      "('W3 Coadd 2022m425_ac51', 'https://irsa.ipac.caltech.edu/ibe/data/wise/allwise/p3am_cdd/20/2022/2022m425_ac51/2022m425_ac51-w3-int-3.fits', '{\"aws\": {\"bucket_name\": \"nasa-irsa-wise\", \"key\":\"wise/allwise/images/p3am_cdd/20/2022/2022m425_ac51/2022m425_ac51-w3-int-3.fits\", \"region\": \"us-west-2\"}}', 2, 'image/fits', 202.248532, -42.404444, array([4095, 4095], dtype=int32), array([2048., 2048.]), array([202.248532, -42.404444]), 'SIN', array([-0.00038194,  0.00038194]), array([-0.00038194, -0.        , -0.        ,  0.00038194]), 'W3', 1.156e-05, 1.627e-05, 7.6e-06, 'm', 18.0, 0.012, 'https://irsa.ipac.caltech.edu/ibe/data/wise/allwise/p3am_cdd/20/2022/2022m425_ac51/2022m425_ac51-w3-unc-3.fits.gz', 'https://irsa.ipac.caltech.edu/ibe/data/wise/allwise/p3am_cdd/20/2022/2022m425_ac51/2022m425_ac51-w3-cov-3.fits.gz', '2022m425_ac51')\n"
     ]
    }
   ],
   "source": [
    "for i in range(len(im_table)):\n",
    "    print(im_table[i])"
   ]
  },
  {
   "cell_type": "code",
   "execution_count": 65,
   "metadata": {},
   "outputs": [
    {
     "name": "stdout",
     "output_type": "stream",
     "text": [
      "https://irsa.ipac.caltech.edu/ibe/data/wise/allwise/p3am_cdd/20/2022/2022m425_ac51/2022m425_ac51-w3-int-3.fits\n"
     ]
    }
   ],
   "source": [
    "#search for the image in the W3 band image\n",
    "# using a for loop i assume because it may be printed multiple times maybe?\n",
    "# i printed it above, it could just be because the ID of the one object is printed 4 times due to there being 4 bandpasses but if you define it at W3 not sure why this is all necessary\n",
    "\n",
    "for i in range(len(im_table)):\n",
    "    if im_table[i]['sia_bp_id'] == 'W3':\n",
    "        break\n",
    "print(im_table[i].getdataurl())\n",
    "# ahh yes, so the it runs over the \"i\" in the dataset until it finds W3 and then stops \n",
    "# so using \"break\" makes the for loop stop after it finds the ID of the object inside of W3\n",
    "# this is prolly very useful if i am looking for multiple objects."
   ]
  },
  {
   "cell_type": "code",
   "execution_count": 66,
   "metadata": {},
   "outputs": [],
   "source": [
    "#Download the image and open it in Astropy\n",
    "fname = download_file(im_table[i].getdataurl(), cache=True)\n",
    "image1= fits.open(fname)"
   ]
  },
  {
   "cell_type": "code",
   "execution_count": 67,
   "metadata": {},
   "outputs": [
    {
     "data": {
      "text/plain": [
       "WCS Keywords\n",
       "\n",
       "Number of WCS axes: 2\n",
       "CTYPE : 'RA---SIN'  'DEC--SIN'  \n",
       "CRVAL : 202.248532  -42.404444  \n",
       "CRPIX : 2048.0  2048.0  \n",
       "NAXIS : 4095  4095"
      ]
     },
     "execution_count": 67,
     "metadata": {},
     "output_type": "execute_result"
    }
   ],
   "source": [
    "#extract a cutout and plot it\n",
    "wcs = WCS(image1[0].header)\n",
    "wcs\n"
   ]
  },
  {
   "cell_type": "code",
   "execution_count": 68,
   "metadata": {},
   "outputs": [],
   "source": [
    "#cuting out the image of the galaxy apart from the rest of the background.\n",
    "cutout = Cutout2D(image1[0].data, pos, (60, 60), wcs=wcs)\n",
    "wcs = cutout.wcs"
   ]
  },
  {
   "cell_type": "code",
   "execution_count": 112,
   "metadata": {},
   "outputs": [
    {
     "data": {
      "image/png": "[encoded data removed]",
      "text/plain": [
       "<Figure size 640x480 with 1 Axes>"
      ]
     },
     "metadata": {},
     "output_type": "display_data"
    }
   ],
   "source": [
    "fig = plt.figure()\n",
    "\n",
    "ax = fig.add_subplot(1, 1, 1, projection = wcs)\n",
    "\n",
    "#vmax at 4000 gives you the (bulge maybe?) right in the center of it\n",
    "ax.imshow(cutout.data, origin='lower', vmax = 2300, cmap= 'gray_r')\n",
    "\n",
    "ax.scatter(ra, dec, transform= ax.get_transform('fk5'), facecolor= 'None', s=3000, edgecolor = 'red', alpha = 1)\n",
    "ax.set_xlabel('Right Ascension')\n",
    "ax.set_ylabel('Declination')\n",
    "#Axis. get_transform() function in axis module of matplotlib library is used to get the \"Transform instance used by this artist\""
   ]
  },
  {
   "cell_type": "code",
   "execution_count": 123,
   "metadata": {},
   "outputs": [],
   "source": [
    "image = fits.open('../Data/image_2MASS-K_s.fits')"
   ]
  },
  {
   "cell_type": "code",
   "execution_count": 127,
   "metadata": {},
   "outputs": [
    {
     "data": {
      "text/plain": [
       "SIMPLE  =                    T                                                  \n",
       "BITPIX  =                  -32                                                  \n",
       "NAXIS   =                    2   / # of Axes                                    \n",
       "NAXIS1  =                  512                                                  \n",
       "NAXIS2  =                  701                                                  \n",
       "BLOCKED =                    T / TAPE MAY BE BLOCKED IN MULTIPLES OF 2880       \n",
       "EXTEND  =                    T / TAPE MAY HAVE STANDARD FITS EXTENSIONS         \n",
       "ORDATE  = '980514  '             / Observation Ref Date (yymmdd)                \n",
       "DAYNUM  = '0440    '             / Observation Day Num                          \n",
       "FN_PRFX = 'k0440013'             / .rdo and .par filename prefix                \n",
       "TYPE    = 'sci     '             / Scan type: dar flt sci cal tst               \n",
       "SCANNO  =                   13   / Scan Number                                  \n",
       "SCANDIR = 's       '             / Scan Direction: n, s, -                      \n",
       "COMMENT                                  (OV)                                   \n",
       "STRIP_ID=               320587   / Strip ID (OV)                                \n",
       "POSITNID= 's421325 '             / Position ID (OV)                             \n",
       "ORIGIN  = '2MASS   '             / 2MASS Survey Camera                          \n",
       "CTYPE1  = 'RA---SIN'             / Orthographic Projection                      \n",
       "CTYPE2  = 'DEC--SIN'             / Orthographic Projection                      \n",
       "CRPIX1  = 2.565000000000000E+02 /   Axis 1 Reference Pixel                      \n",
       "CRPIX2  = 1.895000000000000E+02 /   Axis 2 Reference Pixel                      \n",
       "CRVAL1  =          201.3749353 /   RA  at Frame Center, J2000 (deg)             \n",
       "CRVAL2  =         -43.06695955 /   Dec at Frame Center, J2000 (deg)             \n",
       "CROTA2  =      -0.006725013316 /   Image Twist +AXIS2 W of N, J2000 (deg)       \n",
       "CDELT1  =     -0.0002777777845 /   Axis 1 Pixel Size (degs)                     \n",
       "CDELT2  =      0.0002777777845 /   Axis 2 Pixel Size (degs)                     \n",
       "USXREF  =               -256.5 /   U-scan X at Grid (0,0)                       \n",
       "USYREF  =               -5055. /   U-scan Y at Grid (0,0)                       \n",
       "SKYVAL  =           416.664917 /   GFIND Sky Estimate                           \n",
       "SKYSIG  =          1.869140625 /   Grid  Noise Estimate                         \n",
       "MAGZP   =              19.9158 / Calibrated zero point from CALMAN              \n",
       "CALID   = ' y lf 0 Feb 02 2002'/ Calibration descriptors from CALMAN            \n",
       "SEESH   =               0.9900 / Seeing shape parameter from SEEMAN             \n",
       "DXFS    =         0.2851212919 /   Cross-scan Frame Step (arcsec)               \n",
       "DYFS    =         -82.73269653 /      In-scan Frame Step (arcsec)               \n",
       "PIXNAM  = 'nl.pixphot - v 011003s'                                              \n",
       "QT0227  =          415.1438599 /   2.27 Percentile                              \n",
       "QT0668  =          415.7738647 /   6.68 Percentile                              \n",
       "QT1586  =          416.4634399 /  15.86 Percentile                              \n",
       "QT3085  =          417.2744751 /  30.85 Percentile                              \n",
       "QT5000  =          418.3325806 /  50.00 Percentile                              \n",
       "QT6914  =          420.0795898 /  69.14 Percentile                              \n",
       "QT8413  =          424.1992188 /  84.13 Percentile                              \n",
       "QT9331  =          433.7564087 /  93.31 Percentile                              \n",
       "QT9772  =          458.1600037 /  97.72 Percentile                              \n",
       "BASE    =                    6   / Pixel Dwell (microsec)                       \n",
       "WAVEF_P = '2masss.scn'           / Secondary waveform data file                 \n",
       "TIMER0  =                   52   / Read1 time (millisecs)                       \n",
       "TIMER1  =                 1298   / Read2-Read1 time (millisecs)                 \n",
       "TIMER2  =                   51   / Secondary settling time (millisecs)          \n",
       "ICSVERSN= '980429  '             / ICS script pgm Version (yymmdd)              \n",
       "SCHEDVER= '980504  '             / Scheduler pgm Version (yymmdd)               \n",
       "SCRIPTFN= 'survey.sct'           / Script template filename                     \n",
       "SCRPTVER= '980223  '             / Script template filename Versn (yymmdd)      \n",
       "UT_OFF1 =   7.427007299270E-01   / UT Offset (IC),SOS to frm#1 Cntr (secs)      \n",
       "XS_OFF1 =   1.280000000000E+00   / X-Scan Offset (IN),SOS to f#1 RA Cntr (ASec) \n",
       "IS_OFF1 =  -3.653700000000E+02   / In-Scan Offset (IN),SOS to f#1 Dec Cntr(ASec)\n",
       "XS_OFF2 =   1.060000000000E+00   / X-Scan Offset(IN),EOS to End Frm RA Ctr(ASec)\n",
       "IS_OFF2 =   1.236100000000E+02   / In-Scan Offset(IN),EOS to End Frm Dec Ctr(AS)\n",
       "FOCUS   =                 1027   / Focus Setting                                \n",
       "NUMFRMS =                  274   / Total Number of Frames in this Scan          \n",
       "SKIPRDOS=                    0   / Total Number of SOS junk RDOs skipped (IC)   \n",
       "TELNAME = 'CTIO    '             / Telescope -30.165/+70.815 lat/lon degs       \n",
       "FILTER  = 'k       '             / Band: j, h, k                                \n",
       "UT_DATE = '980514  '             / UT Date of Frame (IC) (yymmdd)               \n",
       "UT      = '01:57:07.44'          / Time of Frame (IC) (sxgsml)                  \n",
       "AMASS_FC=       1.04402924E+00   / Airmass (aprox) at this Frame (IC) (unitless)\n",
       "GRP2_SOS= 'SOS     '             / Bgn Group#2 .par params at SOS               \n",
       "DATE_SOS= '980514  '             / Date at SOS  (yymmdd)                        \n",
       "EQUINOX =   2.000000000000E+03   / Equinox at SOS                               \n",
       "AM_SOS  =       1.03999996E+00   / Airmass at SOS (unitless)                    \n",
       "ZD_SOS  =       1.50000000E+01   / Zenith Distance at SOS (degs)                \n",
       "HA_SOS  = '-00:46:27.00'         / Hour Angle at SOS (sxgsml)                   \n",
       "UT_SOS  = '01:55:45.00'          / Scan Reference UT  (SOS) (sxgsml)            \n",
       "ST_SOS  = '12:38:59.00'          / Sidereal time at SOS  (sxgsml)               \n",
       "RA_SOS  = '13:25:30.52'          / Scan Reference RA at SOS ,epoch 2000 (sxgsml)\n",
       "DEC_SOS = '-41:42:15.9'          / Scan Reference Dec at SOS,epoch 2000 (sxgsml)\n",
       "WSPD_SOS=                    0   / Wind Speed at SOS, see WARNING below         \n",
       "WDIR_SOS=                    0   / Wind Direction at SOS, see WARNING below     \n",
       "HUM_SOS =                   46   / Humidity at SOS, 0-100%                      \n",
       "SEE_SOS =       0.00000000E+00   / Seeing at SOS, see WARNING below             \n",
       "BAR_SOS =       2.98999996E+01   / Barometer at SOS (inches of Hg)              \n",
       "AIRT_SOS=       7.80000019E+00   / Air temperature at SOS, degs Celsius         \n",
       "TELT_SOS=       7.80000019E+00   / Telescope Temp at SOS, degs Celsius          \n",
       "ARYT_SOS=      -1.90000000E+02   / Temperature of array, see WARNING below      \n",
       "GRP2_EOS= 'EOS     '             / Bgn Group#2 .par params at EOS               \n",
       "DATE_EOS= '980514  '             / Date at EOS (yymmdd)                         \n",
       "AM_EOS  =       1.05999994E+00   / Airmass at EOS (unitless)                    \n",
       "ZD_EOS  =       1.96000004E+01   / Zenith Distance at EOS (degs)                \n",
       "HA_EOS  = '-00:39:38.00'         / Hour Angle at EOS (sxgsml)                   \n",
       "UT_EOS  = '02:02:32.00'          / UT  at EOS (sxgsml)                          \n",
       "ST_EOS  = '12:45:47.00'          / ST  at EOS (sxgsml)                          \n",
       "RA_EOS  = '13:25:30.54'          / RA  at EOS, epoch 2000 (sxgsml)              \n",
       "DEC_EOS = '-48:05:26.9'          / Dec at EOS, epoch 2000 (sxgsml)              \n",
       "WSPD_EOS=                    0   / Wind Speed at SOS, see WARNING below         \n",
       "WDIR_EOS=                    0   / Wind Direction at EOS, see WARNING below     \n",
       "HUM_EOS =                   45   / Humidity at EOS, 0-100%                      \n",
       "SEE_EOS =       0.00000000E+00   / Seeing at EOS, see WARNING below             \n",
       "BAR_EOS =       2.98999996E+01   / Barometer at EOS (inches of Hg)              \n",
       "AIRT_EOS=       7.80000019E+00   / Air temperature at EOS, degs Celsius         \n",
       "TELT_EOS=       7.80000019E+00   / Telescope Temp at EOS, degs Celsius          \n",
       "ARYT_EOS=      -1.90000000E+02   / Temperature of array, see WARNING below      \n",
       "COMMENT *** WARNING *** indicated parameter not measured, dummy only            \n",
       "COMMENT src keys: (IK)=IPAC Konstant; (IC)=IPAC cmptd; (IN)=IPAC namelist       \n",
       "COMMENT           (OV)=Obsrvtry .par file variable                              \n",
       "COMMENT   Group 2 parms are ALL from the Obs .par file                          \n",
       "COMMENT   non-Group 2 parms w/o (xx) are usually fm Obs                         \n",
       "RF_NLID = 'norot sat s 980730'   / Rdframe namelist version id                  \n",
       "HISTORY * Rdframe version= 980423     jhw.  Bgn Xeq = 02-02-01 01:38:22         \n",
       "HISTORY * DFlat  vsn1.96 981203  Run on  2/01/02 at  1:36:38                    \n",
       "HISTORY > Image Created by pixphot - Version 010925p                            \n",
       "HISTORY >         Gene Kopan  IPAC/ Caltech                                     "
      ]
     },
     "execution_count": 127,
     "metadata": {},
     "output_type": "execute_result"
    }
   ],
   "source": [
    "fits = fits.getheader('../Data/image_2MASS-K_s.fits')\n",
    "fits."
   ]
  },
  {
   "cell_type": "code",
   "execution_count": null,
   "metadata": {},
   "outputs": [],
   "source": []
  }
 ],
 "metadata": {
  "kernelspec": {
   "display_name": "base",
   "language": "python",
   "name": "python3"
  },
  "language_info": {
   "codemirror_mode": {
    "name": "ipython",
    "version": 3
   },
   "file_extension": ".py",
   "mimetype": "text/x-python",
   "name": "python",
   "nbconvert_exporter": "python",
   "pygments_lexer": "ipython3",
   "version": "3.11.5"
  }
 },
 "nbformat": 4,
 "nbformat_minor": 2
}
