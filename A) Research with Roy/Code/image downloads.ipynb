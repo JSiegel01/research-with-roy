{
 "cells": [
  {
   "cell_type": "code",
   "execution_count": 1,
   "metadata": {},
   "outputs": [],
   "source": [
    "import pyvo as vo\n",
    "from astropy.coordinates import SkyCoord\n",
    "from astropy.nddata import Cutout2D\n",
    "from astropy.wcs import WCS\n",
    "import astropy.units as u\n",
    "import matplotlib.pyplot as plt\n",
    "from astropy.utils.data import download_file\n",
    "from astropy.io import fits\n"
   ]
  },
  {
   "cell_type": "code",
   "execution_count": 2,
   "metadata": {},
   "outputs": [],
   "source": [
    "%matplotlib inline\n"
   ]
  },
  {
   "cell_type": "code",
   "execution_count": 3,
   "metadata": {},
   "outputs": [],
   "source": [
    "# using the website that Irsa.ipac relocates you that has a full explanationm of all the code you need\n",
    "#using NGC 5128: ra= 201.365\tdec= -43.019\n",
    "#define coordinates\t\n",
    "ra = 201.365\n",
    "dec = -43.019\n",
    "pos = SkyCoord(ra=ra, dec=dec, unit= 'deg')"
   ]
  },
  {
   "cell_type": "code",
   "execution_count": 4,
   "metadata": {},
   "outputs": [],
   "source": [
    "# Lookup and define a service for ALLWISE Atlas images\n",
    "# the website gave me the URL\n",
    "allwise_service = vo.dal.SIAService(\"https://irsa.ipac.caltech.edu/ibe/sia/wise/allwise/p3am_cdd?\")\n"
   ]
  },
  {
   "cell_type": "code",
   "execution_count": 61,
   "metadata": {},
   "outputs": [
    {
     "data": {
      "text/plain": [
       "<DALResultsTable length=4>\n",
       "      sia_title        ...    coadd_id  \n",
       "                       ...              \n",
       "        object         ...     object   \n",
       "---------------------- ... -------------\n",
       "W4 Coadd 2022m425_ac51 ... 2022m425_ac51\n",
       "W2 Coadd 2022m425_ac51 ... 2022m425_ac51\n",
       "W1 Coadd 2022m425_ac51 ... 2022m425_ac51\n",
       "W3 Coadd 2022m425_ac51 ... 2022m425_ac51"
      ]
     },
     "execution_count": 61,
     "metadata": {},
     "output_type": "execute_result"
    }
   ],
   "source": [
    "#search the service for images covering within 1 arcsecond of the star. make this bigger if needed\n",
    "im_table = allwise_service.search(pos=pos, size= 1*u.arcsec)\n",
    "im_table"
   ]
  },
  {
   "cell_type": "code",
   "execution_count": 62,
   "metadata": {},
   "outputs": [
    {
     "data": {
      "text/plain": [
       "['sia_title',\n",
       " 'sia_url',\n",
       " 'cloud_access',\n",
       " 'sia_naxes',\n",
       " 'sia_fmt',\n",
       " 'sia_ra',\n",
       " 'sia_dec',\n",
       " 'sia_naxis',\n",
       " 'sia_crpix',\n",
       " 'sia_crval',\n",
       " 'sia_proj',\n",
       " 'sia_scale',\n",
       " 'sia_cd',\n",
       " 'sia_bp_id',\n",
       " 'sia_bp_ref',\n",
       " 'sia_bp_hi',\n",
       " 'sia_bp_lo',\n",
       " 'sia_bp_unit',\n",
       " 'magzp',\n",
       " 'magzpunc',\n",
       " 'unc_url',\n",
       " 'cov_url',\n",
       " 'coadd_id']"
      ]
     },
     "execution_count": 62,
     "metadata": {},
     "output_type": "execute_result"
    }
   ],
   "source": [
    "im_table.to_table().colnames"
   ]
  },
  {
   "cell_type": "code",
   "execution_count": 63,
   "metadata": {},
   "outputs": [
    {
     "data": {
      "text/html": [
       "&lt;MaskedColumn name=&apos;sia_bp_id&apos; dtype=&apos;object&apos; description=&apos;Bandpass ID&apos; length=4&gt;\n",
       "<table>\n",
       "<tr><td>W4</td></tr>\n",
       "<tr><td>W2</td></tr>\n",
       "<tr><td>W1</td></tr>\n",
       "<tr><td>W3</td></tr>\n",
       "</table>"
      ],
      "text/plain": [
       "<MaskedColumn name='sia_bp_id' dtype='object' description='Bandpass ID' length=4>\n",
       "W4\n",
       "W2\n",
       "W1\n",
       "W3"
      ]
     },
     "execution_count": 63,
     "metadata": {},
     "output_type": "execute_result"
    }
   ],
   "source": [
    "im_table.to_table()['sia_bp_id']\n",
    "# i believe this gives us the different bandpasses that you can view the image in. "
   ]
  },
  {
   "cell_type": "code",
   "execution_count": 64,
   "metadata": {},
   "outputs": [
    {
     "name": "stdout",
     "output_type": "stream",
     "text": [
      "('W4 Coadd 2022m425_ac51', 'https://irsa.ipac.caltech.edu/ibe/data/wise/allwise/p3am_cdd/20/2022/2022m425_ac51/2022m425_ac51-w4-int-3.fits', '{\"aws\": {\"bucket_name\": \"nasa-irsa-wise\", \"key\":\"wise/allwise/images/p3am_cdd/20/2022/2022m425_ac51/2022m425_ac51-w4-int-3.fits\", \"region\": \"us-west-2\"}}', 2, 'image/fits', 202.248532, -42.404444, array([4095, 4095], dtype=int32), array([2048., 2048.]), array([202.248532, -42.404444]), 'SIN', array([-0.00038194,  0.00038194]), array([-0.00038194, -0.        , -0.        ,  0.00038194]), 'W4', 2.209e-05, 2.336e-05, 1.984e-05, 'm', 13.0, 0.012, 'https://irsa.ipac.caltech.edu/ibe/data/wise/allwise/p3am_cdd/20/2022/2022m425_ac51/2022m425_ac51-w4-unc-3.fits.gz', 'https://irsa.ipac.caltech.edu/ibe/data/wise/allwise/p3am_cdd/20/2022/2022m425_ac51/2022m425_ac51-w4-cov-3.fits.gz', '2022m425_ac51')\n",
      "('W2 Coadd 2022m425_ac51', 'https://irsa.ipac.caltech.edu/ibe/data/wise/allwise/p3am_cdd/20/2022/2022m425_ac51/2022m425_ac51-w2-int-3.fits', '{\"aws\": {\"bucket_name\": \"nasa-irsa-wise\", \"key\":\"wise/allwise/images/p3am_cdd/20/2022/2022m425_ac51/2022m425_ac51-w2-int-3.fits\", \"region\": \"us-west-2\"}}', 2, 'image/fits', 202.248532, -42.404444, array([4095, 4095], dtype=int32), array([2048., 2048.]), array([202.248532, -42.404444]), 'SIN', array([-0.00038194,  0.00038194]), array([-0.00038194, -0.        , -0.        ,  0.00038194]), 'W2', 4.6e-06, 5.19e-06, 4.02e-06, 'm', 19.5, 0.007, 'https://irsa.ipac.caltech.edu/ibe/data/wise/allwise/p3am_cdd/20/2022/2022m425_ac51/2022m425_ac51-w2-unc-3.fits.gz', 'https://irsa.ipac.caltech.edu/ibe/data/wise/allwise/p3am_cdd/20/2022/2022m425_ac51/2022m425_ac51-w2-cov-3.fits.gz', '2022m425_ac51')\n",
      "('W1 Coadd 2022m425_ac51', 'https://irsa.ipac.caltech.edu/ibe/data/wise/allwise/p3am_cdd/20/2022/2022m425_ac51/2022m425_ac51-w1-int-3.fits', '{\"aws\": {\"bucket_name\": \"nasa-irsa-wise\", \"key\":\"wise/allwise/images/p3am_cdd/20/2022/2022m425_ac51/2022m425_ac51-w1-int-3.fits\", \"region\": \"us-west-2\"}}', 2, 'image/fits', 202.248532, -42.404444, array([4095, 4095], dtype=int32), array([2048., 2048.]), array([202.248532, -42.404444]), 'SIN', array([-0.00038194,  0.00038194]), array([-0.00038194, -0.        , -0.        ,  0.00038194]), 'W1', 3.35e-06, 3.78e-06, 3.13e-06, 'm', 20.5, 0.006, 'https://irsa.ipac.caltech.edu/ibe/data/wise/allwise/p3am_cdd/20/2022/2022m425_ac51/2022m425_ac51-w1-unc-3.fits.gz', 'https://irsa.ipac.caltech.edu/ibe/data/wise/allwise/p3am_cdd/20/2022/2022m425_ac51/2022m425_ac51-w1-cov-3.fits.gz', '2022m425_ac51')\n",
      "('W3 Coadd 2022m425_ac51', 'https://irsa.ipac.caltech.edu/ibe/data/wise/allwise/p3am_cdd/20/2022/2022m425_ac51/2022m425_ac51-w3-int-3.fits', '{\"aws\": {\"bucket_name\": \"nasa-irsa-wise\", \"key\":\"wise/allwise/images/p3am_cdd/20/2022/2022m425_ac51/2022m425_ac51-w3-int-3.fits\", \"region\": \"us-west-2\"}}', 2, 'image/fits', 202.248532, -42.404444, array([4095, 4095], dtype=int32), array([2048., 2048.]), array([202.248532, -42.404444]), 'SIN', array([-0.00038194,  0.00038194]), array([-0.00038194, -0.        , -0.        ,  0.00038194]), 'W3', 1.156e-05, 1.627e-05, 7.6e-06, 'm', 18.0, 0.012, 'https://irsa.ipac.caltech.edu/ibe/data/wise/allwise/p3am_cdd/20/2022/2022m425_ac51/2022m425_ac51-w3-unc-3.fits.gz', 'https://irsa.ipac.caltech.edu/ibe/data/wise/allwise/p3am_cdd/20/2022/2022m425_ac51/2022m425_ac51-w3-cov-3.fits.gz', '2022m425_ac51')\n"
     ]
    }
   ],
   "source": [
    "for i in range(len(im_table)):\n",
    "    print(im_table[i])"
   ]
  },
  {
   "cell_type": "code",
   "execution_count": 65,
   "metadata": {},
   "outputs": [
    {
     "name": "stdout",
     "output_type": "stream",
     "text": [
      "https://irsa.ipac.caltech.edu/ibe/data/wise/allwise/p3am_cdd/20/2022/2022m425_ac51/2022m425_ac51-w3-int-3.fits\n"
     ]
    }
   ],
   "source": [
    "#search for the image in the W3 band image\n",
    "# using a for loop i assume because it may be printed multiple times maybe?\n",
    "# i printed it above, it could just be because the ID of the one object is printed 4 times due to there being 4 bandpasses but if you define it at W3 not sure why this is all necessary\n",
    "\n",
    "for i in range(len(im_table)):\n",
    "    if im_table[i]['sia_bp_id'] == 'W3':\n",
    "        break\n",
    "print(im_table[i].getdataurl())\n",
    "# ahh yes, so the it runs over the \"i\" in the dataset until it finds W3 and then stops \n",
    "# so using \"break\" makes the for loop stop after it finds the ID of the object inside of W3\n",
    "# this is prolly very useful if i am looking for multiple objects."
   ]
  },
  {
   "cell_type": "code",
   "execution_count": 66,
   "metadata": {},
   "outputs": [],
   "source": [
    "#Download the image and open it in Astropy\n",
    "fname = download_file(im_table[i].getdataurl(), cache=True)\n",
    "image1= fits.open(fname)"
   ]
  },
  {
   "cell_type": "code",
   "execution_count": 67,
   "metadata": {},
   "outputs": [
    {
     "data": {
      "text/plain": [
       "WCS Keywords\n",
       "\n",
       "Number of WCS axes: 2\n",
       "CTYPE : 'RA---SIN'  'DEC--SIN'  \n",
       "CRVAL : 202.248532  -42.404444  \n",
       "CRPIX : 2048.0  2048.0  \n",
       "NAXIS : 4095  4095"
      ]
     },
     "execution_count": 67,
     "metadata": {},
     "output_type": "execute_result"
    }
   ],
   "source": [
    "#extract a cutout and plot it\n",
    "wcs = WCS(image1[0].header)\n",
    "wcs\n"
   ]
  },
  {
   "cell_type": "code",
   "execution_count": 68,
   "metadata": {},
   "outputs": [],
   "source": [
    "#cuting out the image of the galaxy apart from the rest of the background.\n",
    "cutout = Cutout2D(image1[0].data, pos, (60, 60), wcs=wcs)\n",
    "wcs = cutout.wcs"
   ]
  },
  {
   "cell_type": "code",
   "execution_count": 96,
   "metadata": {},
   "outputs": [
    {
     "data": {
      "image/png": "[encoded data removed]",
      "text/plain": [
       "<Figure size 640x480 with 1 Axes>"
      ]
     },
     "metadata": {},
     "output_type": "display_data"
    }
   ],
   "source": [
    "fig = plt.figure()\n",
    "\n",
    "ax = fig.add_subplot(1, 1, 1, projection = wcs)\n",
    "\n",
    "ax.imshow(cutout.data, origin='lower', vmax = 4000)\n",
    "\n",
    "ax.scatter(ra, dec, transform= ax.get_transform('fk5'), facecolor= 'None', s=3000, edgecolor = 'red', alpha = 1)\n",
    "ax.set_xlabel('Right Ascension')\n",
    "ax.set_ylabel('Declination')\n",
    "#Axis. get_transform() function in axis module of matplotlib library is used to get the \"Transform instance used by this artist\""
   ]
  },
  {
   "cell_type": "code",
   "execution_count": null,
   "metadata": {},
   "outputs": [],
   "source": []
  },
  {
   "cell_type": "code",
   "execution_count": null,
   "metadata": {},
   "outputs": [],
   "source": []
  }
 ],
 "metadata": {
  "kernelspec": {
   "display_name": "base",
   "language": "python",
   "name": "python3"
  },
  "language_info": {
   "codemirror_mode": {
    "name": "ipython",
    "version": 3
   },
   "file_extension": ".py",
   "mimetype": "text/x-python",
   "name": "python",
   "nbconvert_exporter": "python",
   "pygments_lexer": "ipython3",
   "version": "3.11.5"
  }
 },
 "nbformat": 4,
 "nbformat_minor": 2
}
